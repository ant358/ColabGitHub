{
  "nbformat": 4,
  "nbformat_minor": 0,
  "metadata": {
    "colab": {
      "provenance": [],
      "authorship_tag": "ABX9TyP5KaqBhd8x5s/BxnZW4RdG",
      "include_colab_link": true
    },
    "kernelspec": {
      "name": "python3",
      "display_name": "Python 3"
    },
    "language_info": {
      "name": "python"
    }
  },
  "cells": [
    {
      "cell_type": "markdown",
      "metadata": {
        "id": "view-in-github",
        "colab_type": "text"
      },
      "source": [
        "<a href=\"https://colab.research.google.com/github/ant358/ColabGitHub/blob/main/Dash_test.ipynb\" target=\"_parent\"><img src=\"https://colab.research.google.com/assets/colab-badge.svg\" alt=\"Open In Colab\"/></a>"
      ]
    },
    {
      "cell_type": "markdown",
      "source": [
        "# Running Dash in Colab  \n",
        "https://github.com/plotly/jupyter-dash/blob/master/notebooks/getting_started.ipynb"
      ],
      "metadata": {
        "id": "jp8ueE55k9JF"
      }
    },
    {
      "cell_type": "code",
      "execution_count": 1,
      "metadata": {
        "colab": {
          "base_uri": "https://localhost:8080/"
        },
        "id": "-2D0wOz7kIoR",
        "outputId": "2190d0d8-f7d2-4e4f-e444-e4314cade0bb"
      },
      "outputs": [
        {
          "output_type": "stream",
          "name": "stdout",
          "text": [
            "Looking in indexes: https://pypi.org/simple, https://us-python.pkg.dev/colab-wheels/public/simple/\n",
            "Collecting jupyter-dash\n",
            "  Downloading jupyter_dash-0.4.2-py3-none-any.whl (23 kB)\n",
            "Requirement already satisfied: ipykernel in /usr/local/lib/python3.7/dist-packages (from jupyter-dash) (5.3.4)\n",
            "Collecting dash\n",
            "  Downloading dash-2.6.1-py3-none-any.whl (9.9 MB)\n",
            "\u001b[K     |████████████████████████████████| 9.9 MB 36.2 MB/s \n",
            "\u001b[?25hRequirement already satisfied: requests in /usr/local/lib/python3.7/dist-packages (from jupyter-dash) (2.23.0)\n",
            "Collecting retrying\n",
            "  Downloading retrying-1.3.3.tar.gz (10 kB)\n",
            "Collecting ansi2html\n",
            "  Downloading ansi2html-1.8.0-py3-none-any.whl (16 kB)\n",
            "Requirement already satisfied: ipython in /usr/local/lib/python3.7/dist-packages (from jupyter-dash) (7.9.0)\n",
            "Collecting nest-asyncio\n",
            "  Downloading nest_asyncio-1.5.5-py3-none-any.whl (5.2 kB)\n",
            "Requirement already satisfied: flask in /usr/local/lib/python3.7/dist-packages (from jupyter-dash) (1.1.4)\n",
            "Requirement already satisfied: importlib-metadata in /usr/local/lib/python3.7/dist-packages (from ansi2html->jupyter-dash) (4.12.0)\n",
            "Collecting dash-core-components==2.0.0\n",
            "  Downloading dash_core_components-2.0.0-py3-none-any.whl (3.8 kB)\n",
            "Requirement already satisfied: plotly>=5.0.0 in /usr/local/lib/python3.7/dist-packages (from dash->jupyter-dash) (5.5.0)\n",
            "Collecting dash-table==5.0.0\n",
            "  Downloading dash_table-5.0.0-py3-none-any.whl (3.9 kB)\n",
            "Collecting dash-html-components==2.0.0\n",
            "  Downloading dash_html_components-2.0.0-py3-none-any.whl (4.1 kB)\n",
            "Collecting flask-compress\n",
            "  Downloading Flask_Compress-1.12-py3-none-any.whl (7.9 kB)\n",
            "Requirement already satisfied: Jinja2<3.0,>=2.10.1 in /usr/local/lib/python3.7/dist-packages (from flask->jupyter-dash) (2.11.3)\n",
            "Requirement already satisfied: click<8.0,>=5.1 in /usr/local/lib/python3.7/dist-packages (from flask->jupyter-dash) (7.1.2)\n",
            "Requirement already satisfied: itsdangerous<2.0,>=0.24 in /usr/local/lib/python3.7/dist-packages (from flask->jupyter-dash) (1.1.0)\n",
            "Requirement already satisfied: Werkzeug<2.0,>=0.15 in /usr/local/lib/python3.7/dist-packages (from flask->jupyter-dash) (1.0.1)\n",
            "Requirement already satisfied: MarkupSafe>=0.23 in /usr/local/lib/python3.7/dist-packages (from Jinja2<3.0,>=2.10.1->flask->jupyter-dash) (2.0.1)\n",
            "Requirement already satisfied: tenacity>=6.2.0 in /usr/local/lib/python3.7/dist-packages (from plotly>=5.0.0->dash->jupyter-dash) (8.0.1)\n",
            "Requirement already satisfied: six in /usr/local/lib/python3.7/dist-packages (from plotly>=5.0.0->dash->jupyter-dash) (1.15.0)\n",
            "Collecting brotli\n",
            "  Downloading Brotli-1.0.9-cp37-cp37m-manylinux1_x86_64.whl (357 kB)\n",
            "\u001b[K     |████████████████████████████████| 357 kB 58.3 MB/s \n",
            "\u001b[?25hRequirement already satisfied: zipp>=0.5 in /usr/local/lib/python3.7/dist-packages (from importlib-metadata->ansi2html->jupyter-dash) (3.8.1)\n",
            "Requirement already satisfied: typing-extensions>=3.6.4 in /usr/local/lib/python3.7/dist-packages (from importlib-metadata->ansi2html->jupyter-dash) (4.1.1)\n",
            "Requirement already satisfied: tornado>=4.2 in /usr/local/lib/python3.7/dist-packages (from ipykernel->jupyter-dash) (5.1.1)\n",
            "Requirement already satisfied: traitlets>=4.1.0 in /usr/local/lib/python3.7/dist-packages (from ipykernel->jupyter-dash) (5.1.1)\n",
            "Requirement already satisfied: jupyter-client in /usr/local/lib/python3.7/dist-packages (from ipykernel->jupyter-dash) (6.1.12)\n",
            "Requirement already satisfied: backcall in /usr/local/lib/python3.7/dist-packages (from ipython->jupyter-dash) (0.2.0)\n",
            "Requirement already satisfied: pygments in /usr/local/lib/python3.7/dist-packages (from ipython->jupyter-dash) (2.6.1)\n",
            "Requirement already satisfied: decorator in /usr/local/lib/python3.7/dist-packages (from ipython->jupyter-dash) (4.4.2)\n",
            "Requirement already satisfied: pickleshare in /usr/local/lib/python3.7/dist-packages (from ipython->jupyter-dash) (0.7.5)\n",
            "Collecting jedi>=0.10\n",
            "  Downloading jedi-0.18.1-py2.py3-none-any.whl (1.6 MB)\n",
            "\u001b[K     |████████████████████████████████| 1.6 MB 45.1 MB/s \n",
            "\u001b[?25hRequirement already satisfied: setuptools>=18.5 in /usr/local/lib/python3.7/dist-packages (from ipython->jupyter-dash) (57.4.0)\n",
            "Requirement already satisfied: prompt-toolkit<2.1.0,>=2.0.0 in /usr/local/lib/python3.7/dist-packages (from ipython->jupyter-dash) (2.0.10)\n",
            "Requirement already satisfied: pexpect in /usr/local/lib/python3.7/dist-packages (from ipython->jupyter-dash) (4.8.0)\n",
            "Requirement already satisfied: parso<0.9.0,>=0.8.0 in /usr/local/lib/python3.7/dist-packages (from jedi>=0.10->ipython->jupyter-dash) (0.8.3)\n",
            "Requirement already satisfied: wcwidth in /usr/local/lib/python3.7/dist-packages (from prompt-toolkit<2.1.0,>=2.0.0->ipython->jupyter-dash) (0.2.5)\n",
            "Requirement already satisfied: python-dateutil>=2.1 in /usr/local/lib/python3.7/dist-packages (from jupyter-client->ipykernel->jupyter-dash) (2.8.2)\n",
            "Requirement already satisfied: pyzmq>=13 in /usr/local/lib/python3.7/dist-packages (from jupyter-client->ipykernel->jupyter-dash) (23.2.1)\n",
            "Requirement already satisfied: jupyter-core>=4.6.0 in /usr/local/lib/python3.7/dist-packages (from jupyter-client->ipykernel->jupyter-dash) (4.11.1)\n",
            "Requirement already satisfied: ptyprocess>=0.5 in /usr/local/lib/python3.7/dist-packages (from pexpect->ipython->jupyter-dash) (0.7.0)\n",
            "Requirement already satisfied: urllib3!=1.25.0,!=1.25.1,<1.26,>=1.21.1 in /usr/local/lib/python3.7/dist-packages (from requests->jupyter-dash) (1.24.3)\n",
            "Requirement already satisfied: chardet<4,>=3.0.2 in /usr/local/lib/python3.7/dist-packages (from requests->jupyter-dash) (3.0.4)\n",
            "Requirement already satisfied: certifi>=2017.4.17 in /usr/local/lib/python3.7/dist-packages (from requests->jupyter-dash) (2022.6.15)\n",
            "Requirement already satisfied: idna<3,>=2.5 in /usr/local/lib/python3.7/dist-packages (from requests->jupyter-dash) (2.10)\n",
            "Building wheels for collected packages: retrying\n",
            "  Building wheel for retrying (setup.py) ... \u001b[?25l\u001b[?25hdone\n",
            "  Created wheel for retrying: filename=retrying-1.3.3-py3-none-any.whl size=11447 sha256=7026934feda7e3e609173df157e5bdde15dc6a19848f009c7df8fb44201cce99\n",
            "  Stored in directory: /root/.cache/pip/wheels/f9/8d/8d/f6af3f7f9eea3553bc2fe6d53e4b287dad18b06a861ac56ddf\n",
            "Successfully built retrying\n",
            "Installing collected packages: jedi, brotli, flask-compress, dash-table, dash-html-components, dash-core-components, retrying, nest-asyncio, dash, ansi2html, jupyter-dash\n",
            "Successfully installed ansi2html-1.8.0 brotli-1.0.9 dash-2.6.1 dash-core-components-2.0.0 dash-html-components-2.0.0 dash-table-5.0.0 flask-compress-1.12 jedi-0.18.1 jupyter-dash-0.4.2 nest-asyncio-1.5.5 retrying-1.3.3\n"
          ]
        }
      ],
      "source": [
        "!pip install jupyter-dash"
      ]
    },
    {
      "cell_type": "code",
      "source": [
        "from jupyter_dash import JupyterDash"
      ],
      "metadata": {
        "id": "TKZwqydmkS8X"
      },
      "execution_count": 2,
      "outputs": []
    },
    {
      "cell_type": "code",
      "source": [
        "import dash\n",
        "from dash import dcc\n",
        "from dash import html\n",
        "import pandas as pd\n"
      ],
      "metadata": {
        "id": "oyXUh7XWk7fx"
      },
      "execution_count": 3,
      "outputs": []
    },
    {
      "cell_type": "markdown",
      "source": [
        "When running in JupyterHub or Binder, call the infer_jupyter_config function to detect the proxy configuration."
      ],
      "metadata": {
        "id": "LjjsXSlNlnZs"
      }
    },
    {
      "cell_type": "code",
      "source": [
        "JupyterDash.infer_jupyter_proxy_config()"
      ],
      "metadata": {
        "id": "fGE8KQTblj6Q"
      },
      "execution_count": 4,
      "outputs": []
    },
    {
      "cell_type": "code",
      "source": [
        "# Load and preprocess data\n",
        "df = pd.read_csv('https://plotly.github.io/datasets/country_indicators.csv')\n",
        "available_indicators = df['Indicator Name'].unique()"
      ],
      "metadata": {
        "id": "x7BAcwhmlr3a"
      },
      "execution_count": 5,
      "outputs": []
    },
    {
      "cell_type": "code",
      "source": [
        "# Construct the app and callbacks\n",
        "external_stylesheets = ['https://codepen.io/chriddyp/pen/bWLwgP.css']\n",
        "\n",
        "app = JupyterDash(__name__, external_stylesheets=external_stylesheets)\n",
        "\n",
        "# Create server variable with Flask server object for use with gunicorn\n",
        "server = app.server\n",
        "\n",
        "app.layout = html.Div([\n",
        "    html.Div([\n",
        "\n",
        "        html.Div([\n",
        "            dcc.Dropdown(\n",
        "                id='crossfilter-xaxis-column',\n",
        "                options=[{'label': i, 'value': i} for i in available_indicators],\n",
        "                value='Fertility rate, total (births per woman)'\n",
        "            ),\n",
        "            dcc.RadioItems(\n",
        "                id='crossfilter-xaxis-type',\n",
        "                options=[{'label': i, 'value': i} for i in ['Linear', 'Log']],\n",
        "                value='Linear',\n",
        "                labelStyle={'display': 'inline-block'}\n",
        "            )\n",
        "        ],\n",
        "        style={'width': '49%', 'display': 'inline-block'}),\n",
        "\n",
        "        html.Div([\n",
        "            dcc.Dropdown(\n",
        "                id='crossfilter-yaxis-column',\n",
        "                options=[{'label': i, 'value': i} for i in available_indicators],\n",
        "                value='Life expectancy at birth, total (years)'\n",
        "            ),\n",
        "            dcc.RadioItems(\n",
        "                id='crossfilter-yaxis-type',\n",
        "                options=[{'label': i, 'value': i} for i in ['Linear', 'Log']],\n",
        "                value='Linear',\n",
        "                labelStyle={'display': 'inline-block'}\n",
        "            )\n",
        "        ], style={'width': '49%', 'float': 'right', 'display': 'inline-block'})\n",
        "    ], style={\n",
        "        'borderBottom': 'thin lightgrey solid',\n",
        "        'backgroundColor': 'rgb(250, 250, 250)',\n",
        "        'padding': '10px 5px'\n",
        "    }),\n",
        "\n",
        "    html.Div([\n",
        "        dcc.Graph(\n",
        "            id='crossfilter-indicator-scatter',\n",
        "            hoverData={'points': [{'customdata': 'Japan'}]}\n",
        "        )\n",
        "    ], style={'width': '49%', 'display': 'inline-block', 'padding': '0 20'}),\n",
        "    html.Div([\n",
        "        dcc.Graph(id='x-time-series'),\n",
        "        dcc.Graph(id='y-time-series'),\n",
        "    ], style={'display': 'inline-block', 'width': '49%'}),\n",
        "\n",
        "    html.Div(dcc.Slider(\n",
        "        id='crossfilter-year--slider',\n",
        "        min=df['Year'].min(),\n",
        "        max=df['Year'].max(),\n",
        "        value=df['Year'].max(),\n",
        "        marks={str(year): str(year) for year in df['Year'].unique()},\n",
        "        step=None\n",
        "    ), style={'width': '49%', 'padding': '0px 20px 20px 20px'})\n",
        "])\n",
        "\n",
        "\n",
        "@app.callback(\n",
        "    dash.dependencies.Output('crossfilter-indicator-scatter', 'figure'),\n",
        "    [dash.dependencies.Input('crossfilter-xaxis-column', 'value'),\n",
        "     dash.dependencies.Input('crossfilter-yaxis-column', 'value'),\n",
        "     dash.dependencies.Input('crossfilter-xaxis-type', 'value'),\n",
        "     dash.dependencies.Input('crossfilter-yaxis-type', 'value'),\n",
        "     dash.dependencies.Input('crossfilter-year--slider', 'value')])\n",
        "\n",
        "def update_graph(xaxis_column_name, yaxis_column_name,\n",
        "                 xaxis_type, yaxis_type,\n",
        "                 year_value):\n",
        "    dff = df[df['Year'] == year_value]\n",
        "\n",
        "    return {\n",
        "        'data': [dict(\n",
        "            x=dff[dff['Indicator Name'] == xaxis_column_name]['Value'],\n",
        "            y=dff[dff['Indicator Name'] == yaxis_column_name]['Value'],\n",
        "            text=dff[dff['Indicator Name'] == yaxis_column_name]['Country Name'],\n",
        "            customdata=dff[dff['Indicator Name'] == yaxis_column_name]['Country Name'],\n",
        "            mode='markers',\n",
        "            marker={\n",
        "                'size': 25,\n",
        "                'opacity': 0.7,\n",
        "                'color': 'orange',\n",
        "                'line': {'width': 2, 'color': 'purple'}\n",
        "            }\n",
        "        )],\n",
        "        'layout': dict(\n",
        "            xaxis={\n",
        "                'title': xaxis_column_name,\n",
        "                'type': 'linear' if xaxis_type == 'Linear' else 'log'\n",
        "            },\n",
        "            yaxis={\n",
        "                'title': yaxis_column_name,\n",
        "                'type': 'linear' if yaxis_type == 'Linear' else 'log'\n",
        "            },\n",
        "            margin={'l': 40, 'b': 30, 't': 10, 'r': 0},\n",
        "            height=450,\n",
        "            hovermode='closest'\n",
        "        )\n",
        "    }\n",
        "\n",
        "\n",
        "def create_time_series(dff, axis_type, title):\n",
        "    return {\n",
        "        'data': [dict(\n",
        "            x=dff['Year'],\n",
        "            y=dff['Value'],\n",
        "            mode='lines+markers'\n",
        "        )],\n",
        "        'layout': {\n",
        "            'height': 225,\n",
        "            'margin': {'l': 20, 'b': 30, 'r': 10, 't': 10},\n",
        "            'annotations': [{\n",
        "                'x': 0, 'y': 0.85, 'xanchor': 'left', 'yanchor': 'bottom',\n",
        "                'xref': 'paper', 'yref': 'paper', 'showarrow': False,\n",
        "                'align': 'left', 'bgcolor': 'rgba(255, 255, 255, 0.5)',\n",
        "                'text': title\n",
        "            }],\n",
        "            'yaxis': {'type': 'linear' if axis_type == 'Linear' else 'log'},\n",
        "            'xaxis': {'showgrid': False}\n",
        "        }\n",
        "    }\n",
        "\n",
        "\n",
        "@app.callback(\n",
        "    dash.dependencies.Output('x-time-series', 'figure'),\n",
        "    [dash.dependencies.Input('crossfilter-indicator-scatter', 'hoverData'),\n",
        "     dash.dependencies.Input('crossfilter-xaxis-column', 'value'),\n",
        "     dash.dependencies.Input('crossfilter-xaxis-type', 'value')])\n",
        "def update_y_timeseries(hoverData, xaxis_column_name, axis_type):\n",
        "    country_name = hoverData['points'][0]['customdata']\n",
        "    dff = df[df['Country Name'] == country_name]\n",
        "    dff = dff[dff['Indicator Name'] == xaxis_column_name]\n",
        "    title = '<b>{}</b><br>{}'.format(country_name, xaxis_column_name)\n",
        "    return create_time_series(dff, axis_type, title)\n",
        "\n",
        "\n",
        "@app.callback(\n",
        "    dash.dependencies.Output('y-time-series', 'figure'),\n",
        "    [dash.dependencies.Input('crossfilter-indicator-scatter', 'hoverData'),\n",
        "     dash.dependencies.Input('crossfilter-yaxis-column', 'value'),\n",
        "     dash.dependencies.Input('crossfilter-yaxis-type', 'value')])\n",
        "def update_x_timeseries(hoverData, yaxis_column_name, axis_type):\n",
        "    dff = df[df['Country Name'] == hoverData['points'][0]['customdata']]\n",
        "    dff = dff[dff['Indicator Name'] == yaxis_column_name]\n",
        "    return create_time_series(dff, axis_type, yaxis_column_name)"
      ],
      "metadata": {
        "id": "P5lFyggZl023"
      },
      "execution_count": 6,
      "outputs": []
    },
    {
      "cell_type": "markdown",
      "source": [
        "Serve the app using run_server. Unlike the standard Dash.run_server method, the JupyterDash.run_server method doesn't block execution of the notebook. It serves the app in a background thread, making it possible to run other notebook calculations while the app is running.\n",
        "\n",
        "This makes it possible to iteratively update the app without rerunning the potentially expensive data processing steps."
      ],
      "metadata": {
        "id": "mac1jRi0mlyB"
      }
    },
    {
      "cell_type": "code",
      "source": [
        "app.run_server()"
      ],
      "metadata": {
        "colab": {
          "base_uri": "https://localhost:8080/",
          "height": 53
        },
        "id": "5uXTkjpBmJ1V",
        "outputId": "0f91649e-1b4c-42e0-ffe9-e3de08b76e7a"
      },
      "execution_count": 7,
      "outputs": [
        {
          "output_type": "stream",
          "name": "stdout",
          "text": [
            "Dash app running on:\n"
          ]
        },
        {
          "output_type": "display_data",
          "data": {
            "text/plain": [
              "<IPython.core.display.Javascript object>"
            ],
            "application/javascript": [
              "(async (port, path, text, element) => {\n",
              "    if (!google.colab.kernel.accessAllowed) {\n",
              "      return;\n",
              "    }\n",
              "    element.appendChild(document.createTextNode(''));\n",
              "    const url = await google.colab.kernel.proxyPort(port);\n",
              "    const anchor = document.createElement('a');\n",
              "    anchor.href = new URL(path, url).toString();\n",
              "    anchor.target = '_blank';\n",
              "    anchor.setAttribute('data-href', url + path);\n",
              "    anchor.textContent = text;\n",
              "    element.appendChild(anchor);\n",
              "  })(8050, \"/\", \"http://127.0.0.1:8050/\", window.element)"
            ]
          },
          "metadata": {}
        }
      ]
    },
    {
      "cell_type": "code",
      "source": [],
      "metadata": {
        "id": "CYJ4Rgq3mzqM"
      },
      "execution_count": null,
      "outputs": []
    }
  ]
}