{
 "cells": [
  {
   "cell_type": "markdown",
   "metadata": {
    "id": "nYPAFcQaGYra"
   },
   "source": [
    "# How you can use Python to find the top ten momentum stocks efficiently     \n",
    "Here is a step by step guide to a process I run each month to choose my next potential momentum<sup>1</sup> based investment. Of course, this is not investment advice, and I’m not guaranteeing you will make money, but it is an easy and quick way to access share price information for analysis. The process was born out of frustration that I could not find a simple, reliable league table of the fastest-growing shares in an online sea of information. The code presented here is designed to load and run online in a Google Collaboratory notebook<sup>2</sup>, so you can get away with not knowing or caring how to run Python - scroll to the end and press the \"open in colab\" button.  And if you have not used Python to analyse data before - welcome to the new World! It's possible to do all this online without having a high powered computer or spending hours downloading and configuring software<sup>9</sup>. If you aready use Jupyter notebooks you can download and run this one from my [Github](https://github.com/ant358/ColabGitHub/blob/main/notebooks/How_you_can_use_Python_to_find_the_top_ten_momentum_stocks.ipynb)  \n"
   ]
  },
  {
   "cell_type": "markdown",
   "metadata": {
    "id": "4mcvagntGVtj"
   },
   "source": [
    "## First, find out what stocks available to trade      \n",
    "Download the available share data. \n",
    "I use Freetrade as a broker; at the time of writing, the Freetrade available stock list was on this [page](   \n",
    "https://freetrade.io/stock-list#stock-list-table). And the data itself is stored in a [spreadsheet](  \n",
    "https://docs.google.com/spreadsheets/d/14Ep-CmoqWxrMU8HshxthRcdRW8IsXvh3n2-ZHVCzqzQ/edit#gid=1855920257)\n",
    " \n",
    "Of course, these links may change; therefore, edit the link in the code cell below if it is broken. Or, if you use a different broker, find their listings. The goal here is to have a list of stocks symbols to evaluate!\n",
    "\n",
    " "
   ]
  },
  {
   "cell_type": "code",
   "execution_count": 1,
   "metadata": {
    "id": "WB1UaV9ODMyf"
   },
   "outputs": [],
   "source": [
    "# import the Python modules and packages required\n",
    "import pandas as pd\n",
    "import numpy as np\n",
    "import io\n",
    "import requests\n",
    "import pprint\n",
    "import matplotlib.pyplot as plt"
   ]
  },
  {
   "cell_type": "markdown",
   "metadata": {
    "id": "VcofYA8FO2Zx"
   },
   "source": [
    "The stock listings link above is for a multitab Google docs spreadsheet. However, we only need one tab so, there is a bit of work to adjust the link and get only the sheet we need<sup>3</sup>."
   ]
  },
  {
   "cell_type": "code",
   "execution_count": 2,
   "metadata": {
    "colab": {
     "base_uri": "https://localhost:8080/",
     "height": 35
    },
    "id": "mbxaQOc4KZ8w",
    "outputId": "fdca3086-f101-4fe3-9e1e-56ee8554b74c"
   },
   "outputs": [
    {
     "data": {
      "text/plain": [
       "'https://docs.google.com/spreadsheets/d/14Ep-CmoqWxrMU8HshxthRcdRW8IsXvh3n2-ZHVCzqzQ/gviz/tq?tqx=out:csv&sheet=Freetrade Universe'"
      ]
     },
     "execution_count": 2,
     "metadata": {},
     "output_type": "execute_result"
    }
   ],
   "source": [
    "# the freetrade file link\n",
    "link = \"https://docs.google.com/spreadsheets/d/14Ep-CmoqWxrMU8HshxthRcdRW8IsXvh3n2-ZHVCzqzQ/edit#gid=1855920257\"\n",
    "# split the link after /edit - keep just the first part\n",
    "url_start = link.split('/edit')[0]\n",
    "# add the sheet name\n",
    "sheet_name = 'Freetrade Universe'\n",
    "url_end = f\"/gviz/tq?tqx=out:csv&sheet={sheet_name}\"\n",
    "# build the new link\n",
    "url = url_start + url_end\n",
    "# show the new url\n",
    "url"
   ]
  },
  {
   "cell_type": "markdown",
   "metadata": {
    "id": "QhdwzEc0LoeV"
   },
   "source": [
    "The Python Requests<sup>4</sup> library makes it easy to grab data from websites, so we will use that to get the spreadsheet URL and Pythons' StringIO<sup>5</sup> to knock the data into a readable format<sup>6</sup>."
   ]
  },
  {
   "cell_type": "code",
   "execution_count": 3,
   "metadata": {
    "colab": {
     "base_uri": "https://localhost:8080/",
     "height": 377
    },
    "id": "88DaDHFLOLbl",
    "outputId": "3524740b-e95a-4d25-f260-97e6cbd06d12"
   },
   "outputs": [
    {
     "data": {
      "text/html": [
       "<div>\n",
       "<style scoped>\n",
       "    .dataframe tbody tr th:only-of-type {\n",
       "        vertical-align: middle;\n",
       "    }\n",
       "\n",
       "    .dataframe tbody tr th {\n",
       "        vertical-align: top;\n",
       "    }\n",
       "\n",
       "    .dataframe thead th {\n",
       "        text-align: right;\n",
       "    }\n",
       "</style>\n",
       "<table border=\"1\" class=\"dataframe\">\n",
       "  <thead>\n",
       "    <tr style=\"text-align: right;\">\n",
       "      <th></th>\n",
       "      <th>Title</th>\n",
       "      <th>Long_Title</th>\n",
       "      <th>Subtitle</th>\n",
       "      <th>Currency</th>\n",
       "      <th>ISA_eligible</th>\n",
       "      <th>SIPP_eligible</th>\n",
       "      <th>ISIN</th>\n",
       "      <th>MIC</th>\n",
       "      <th>Symbol</th>\n",
       "      <th>Fractional_Enabled</th>\n",
       "      <th>...</th>\n",
       "      <th>for_Netherlands_investors</th>\n",
       "      <th>KIID_URL</th>\n",
       "      <th>Unnamed: 14</th>\n",
       "      <th>Unnamed: 15</th>\n",
       "      <th>Unnamed: 16</th>\n",
       "      <th>Unnamed: 17</th>\n",
       "      <th>Unnamed: 18</th>\n",
       "      <th>Unnamed: 19</th>\n",
       "      <th>Unnamed: 20</th>\n",
       "      <th>Unnamed: 21</th>\n",
       "    </tr>\n",
       "  </thead>\n",
       "  <tbody>\n",
       "    <tr>\n",
       "      <th>0</th>\n",
       "      <td>Tritax Eurobox</td>\n",
       "      <td>Tritax Eurobox plc</td>\n",
       "      <td>Logistics centre REIT</td>\n",
       "      <td>gbp</td>\n",
       "      <td>False</td>\n",
       "      <td>False</td>\n",
       "      <td>GB00BG382L74</td>\n",
       "      <td>XLON</td>\n",
       "      <td>EBOX</td>\n",
       "      <td>False</td>\n",
       "      <td>...</td>\n",
       "      <td>False</td>\n",
       "      <td>https://www.tritaxeurobox.co.uk/wp-content/upl...</td>\n",
       "      <td>NaN</td>\n",
       "      <td>NaN</td>\n",
       "      <td>NaN</td>\n",
       "      <td>NaN</td>\n",
       "      <td>NaN</td>\n",
       "      <td>NaN</td>\n",
       "      <td>NaN</td>\n",
       "      <td>NaN</td>\n",
       "    </tr>\n",
       "    <tr>\n",
       "      <th>1</th>\n",
       "      <td>Capital &amp; Regional</td>\n",
       "      <td>Capital &amp; Regional plc</td>\n",
       "      <td>Commercial REIT</td>\n",
       "      <td>gbp</td>\n",
       "      <td>False</td>\n",
       "      <td>False</td>\n",
       "      <td>GB00BL6XZ716</td>\n",
       "      <td>XLON</td>\n",
       "      <td>CAL</td>\n",
       "      <td>False</td>\n",
       "      <td>...</td>\n",
       "      <td>False</td>\n",
       "      <td>NaN</td>\n",
       "      <td>NaN</td>\n",
       "      <td>NaN</td>\n",
       "      <td>NaN</td>\n",
       "      <td>NaN</td>\n",
       "      <td>NaN</td>\n",
       "      <td>NaN</td>\n",
       "      <td>NaN</td>\n",
       "      <td>NaN</td>\n",
       "    </tr>\n",
       "    <tr>\n",
       "      <th>2</th>\n",
       "      <td>AEW UK Reit</td>\n",
       "      <td>AEW UK Reit plc</td>\n",
       "      <td>Long-lease REIT</td>\n",
       "      <td>gbp</td>\n",
       "      <td>False</td>\n",
       "      <td>False</td>\n",
       "      <td>GB00BWD24154</td>\n",
       "      <td>XLON</td>\n",
       "      <td>AEWU</td>\n",
       "      <td>False</td>\n",
       "      <td>...</td>\n",
       "      <td>False</td>\n",
       "      <td>https://www.aewukreit.com/~/media/Files/A/AEW-...</td>\n",
       "      <td>NaN</td>\n",
       "      <td>NaN</td>\n",
       "      <td>NaN</td>\n",
       "      <td>NaN</td>\n",
       "      <td>NaN</td>\n",
       "      <td>NaN</td>\n",
       "      <td>NaN</td>\n",
       "      <td>NaN</td>\n",
       "    </tr>\n",
       "    <tr>\n",
       "      <th>3</th>\n",
       "      <td>Residential Secure</td>\n",
       "      <td>Residential Secure Income REIT</td>\n",
       "      <td>Residential REIT</td>\n",
       "      <td>gbp</td>\n",
       "      <td>False</td>\n",
       "      <td>False</td>\n",
       "      <td>GB00BYSX1508</td>\n",
       "      <td>XLON</td>\n",
       "      <td>RESI</td>\n",
       "      <td>False</td>\n",
       "      <td>...</td>\n",
       "      <td>False</td>\n",
       "      <td>https://doc.morningstar.com/document/d06cbec44...</td>\n",
       "      <td>NaN</td>\n",
       "      <td>NaN</td>\n",
       "      <td>NaN</td>\n",
       "      <td>NaN</td>\n",
       "      <td>NaN</td>\n",
       "      <td>NaN</td>\n",
       "      <td>NaN</td>\n",
       "      <td>NaN</td>\n",
       "    </tr>\n",
       "    <tr>\n",
       "      <th>4</th>\n",
       "      <td>McKay Securities</td>\n",
       "      <td>McKay Securities</td>\n",
       "      <td>Commercial REIT</td>\n",
       "      <td>gbp</td>\n",
       "      <td>False</td>\n",
       "      <td>False</td>\n",
       "      <td>GB0005522007</td>\n",
       "      <td>XLON</td>\n",
       "      <td>MCKS</td>\n",
       "      <td>False</td>\n",
       "      <td>...</td>\n",
       "      <td>False</td>\n",
       "      <td>NaN</td>\n",
       "      <td>NaN</td>\n",
       "      <td>NaN</td>\n",
       "      <td>NaN</td>\n",
       "      <td>NaN</td>\n",
       "      <td>NaN</td>\n",
       "      <td>NaN</td>\n",
       "      <td>NaN</td>\n",
       "      <td>NaN</td>\n",
       "    </tr>\n",
       "  </tbody>\n",
       "</table>\n",
       "<p>5 rows × 22 columns</p>\n",
       "</div>"
      ],
      "text/plain": [
       "                Title                      Long_Title               Subtitle  \\\n",
       "0      Tritax Eurobox              Tritax Eurobox plc  Logistics centre REIT   \n",
       "1  Capital & Regional          Capital & Regional plc        Commercial REIT   \n",
       "2         AEW UK Reit                 AEW UK Reit plc        Long-lease REIT   \n",
       "3  Residential Secure  Residential Secure Income REIT       Residential REIT   \n",
       "4    McKay Securities                McKay Securities        Commercial REIT   \n",
       "\n",
       "  Currency  ISA_eligible  SIPP_eligible          ISIN   MIC Symbol  \\\n",
       "0      gbp         False          False  GB00BG382L74  XLON   EBOX   \n",
       "1      gbp         False          False  GB00BL6XZ716  XLON    CAL   \n",
       "2      gbp         False          False  GB00BWD24154  XLON   AEWU   \n",
       "3      gbp         False          False  GB00BYSX1508  XLON   RESI   \n",
       "4      gbp         False          False  GB0005522007  XLON   MCKS   \n",
       "\n",
       "  Fractional_Enabled  ...  for_Netherlands_investors  \\\n",
       "0              False  ...                      False   \n",
       "1              False  ...                      False   \n",
       "2              False  ...                      False   \n",
       "3              False  ...                      False   \n",
       "4              False  ...                      False   \n",
       "\n",
       "                                            KIID_URL  Unnamed: 14 Unnamed: 15  \\\n",
       "0  https://www.tritaxeurobox.co.uk/wp-content/upl...          NaN         NaN   \n",
       "1                                                NaN          NaN         NaN   \n",
       "2  https://www.aewukreit.com/~/media/Files/A/AEW-...          NaN         NaN   \n",
       "3  https://doc.morningstar.com/document/d06cbec44...          NaN         NaN   \n",
       "4                                                NaN          NaN         NaN   \n",
       "\n",
       "   Unnamed: 16  Unnamed: 17  Unnamed: 18  Unnamed: 19  Unnamed: 20  \\\n",
       "0          NaN          NaN          NaN          NaN          NaN   \n",
       "1          NaN          NaN          NaN          NaN          NaN   \n",
       "2          NaN          NaN          NaN          NaN          NaN   \n",
       "3          NaN          NaN          NaN          NaN          NaN   \n",
       "4          NaN          NaN          NaN          NaN          NaN   \n",
       "\n",
       "   Unnamed: 21  \n",
       "0          NaN  \n",
       "1          NaN  \n",
       "2          NaN  \n",
       "3          NaN  \n",
       "4          NaN  \n",
       "\n",
       "[5 rows x 22 columns]"
      ]
     },
     "execution_count": 3,
     "metadata": {},
     "output_type": "execute_result"
    }
   ],
   "source": [
    "# use python requests package to get the file\n",
    "file = requests.get(url).content\n",
    "# use python io to read the file into a pandas dataframe \n",
    "df = pd.read_csv(io.StringIO(file.decode('utf-8')))\n",
    "# view the first 5 lines\n",
    "df.head()"
   ]
  },
  {
   "cell_type": "markdown",
   "metadata": {
    "id": "TDxJdO1KVFZT"
   },
   "source": [
    "## Next, filter the data frame of stocks for your account circumstances  \n",
    "When you look at the columns in the data, there are some boolean (True/False) columns to filter the stocks, e.g. my investments are held in a UK ISA for tax efficiency, I am not a Plus subscriber, and I like being able to buy Fractional shares. So I need to choose only the True rows to filter the number of shares as follows.  "
   ]
  },
  {
   "cell_type": "code",
   "execution_count": 4,
   "metadata": {
    "colab": {
     "base_uri": "https://localhost:8080/"
    },
    "id": "AQzbiEQkOXP0",
    "outputId": "ea1fa776-feb8-4ae6-825f-7444ea8d66bd"
   },
   "outputs": [
    {
     "name": "stdout",
     "output_type": "stream",
     "text": [
      "Number of shares available:  5566\n",
      "Number of shares available:  5135\n"
     ]
    }
   ],
   "source": [
    "# how many shares are there to start with?\n",
    "print('Number of shares available: ',len(df))\n",
    "# choose only the ISA eligible ones\n",
    "df = df[df['ISA_eligible']==True]\n",
    "# whats left?\n",
    "print('Number of shares available: ',len(df))"
   ]
  },
  {
   "cell_type": "code",
   "execution_count": 5,
   "metadata": {
    "colab": {
     "base_uri": "https://localhost:8080/"
    },
    "id": "Sv70aoxBWCqs",
    "outputId": "65f5201f-58f5-4b42-8bda-e174d49efca4"
   },
   "outputs": [
    {
     "name": "stdout",
     "output_type": "stream",
     "text": [
      "Number of shares available:  4026\n"
     ]
    }
   ],
   "source": [
    "# deselect the Plus account only shares\n",
    "df = df[df['PLUS_only']==False]\n",
    "print('Number of shares available: ',len(df))"
   ]
  },
  {
   "cell_type": "code",
   "execution_count": 6,
   "metadata": {
    "colab": {
     "base_uri": "https://localhost:8080/"
    },
    "id": "0qAfDgeyWHUy",
    "outputId": "62824668-0dce-4df6-cab7-50c39cdbed31"
   },
   "outputs": [
    {
     "name": "stdout",
     "output_type": "stream",
     "text": [
      "Number of available:  3389\n"
     ]
    }
   ],
   "source": [
    "# make sure they can be traded fractionally\n",
    "df = df[df['Fractional_Enabled']==True]\n",
    "print('Number of available: ',len(df))"
   ]
  },
  {
   "cell_type": "markdown",
   "metadata": {
    "id": "nCJVy-cdWhGo"
   },
   "source": [
    "## Now clean up the spreadsheet   \n",
    "Drop the other columns and keep a few useful ones for reference information.      \n",
    "1) [ISIN](https://en.wikipedia.org/wiki/International_Securities_Identification_Number ) - this is a unique identifier for all stocks Worldwide   \n",
    "2) [MIC](https://www.iso20022.org/market-identifier-codes) - this is an identifier for the exchange the stocks are traded on  \n",
    "3) Subtitle - looks like the market sector  \n",
    "4) Symbol is the market ticker  \n",
    "5) The title, long title and account currency  "
   ]
  },
  {
   "cell_type": "code",
   "execution_count": 7,
   "metadata": {
    "id": "bJwr6qm3WT06"
   },
   "outputs": [],
   "source": [
    "# Copy to a new dataframe and keep only the useful columns\n",
    "tradeable = df[['Title', 'Long_Title', 'Subtitle', 'Currency', 'ISIN', 'MIC', 'Symbol']].copy()"
   ]
  },
  {
   "cell_type": "markdown",
   "metadata": {
    "id": "Hr0bhTmkazOr"
   },
   "source": [
    "## Time to get the share price data from the internet?\n",
    "Many sites provide comprehensive share price data; can we use Python to grab and collate this data from the internet painlessly?  \n",
    "First stop Yahoo Finance<sup>7</sup>, and there is a python module to work with that data called yfinance<sup>8</sup>. yfinance does not come preinstalled in google colab notebooks by default, so we will check if the module can be imported and, if not - install it.  "
   ]
  },
  {
   "cell_type": "code",
   "execution_count": 8,
   "metadata": {
    "colab": {
     "base_uri": "https://localhost:8080/"
    },
    "id": "JN_w-XSdWTNj",
    "outputId": "4fa7c731-28c1-4209-e9e9-5dc439ff016e"
   },
   "outputs": [],
   "source": [
    "# import yfinance or install it first\n",
    "try: \n",
    "    import yfinance as yf\n",
    "except:\n",
    "    !pip install yfinance\n",
    "    import yfinance as yf"
   ]
  },
  {
   "cell_type": "markdown",
   "metadata": {
    "id": "VGvbu5eqb7cB"
   },
   "source": [
    "## Clean up the data  \n",
    "Have we got unique tickers for all the instruments? I already know there are some duplicates in the sheet so we will drop those.  "
   ]
  },
  {
   "cell_type": "code",
   "execution_count": 9,
   "metadata": {
    "id": "Q63BlgI7cmBA"
   },
   "outputs": [],
   "source": [
    "# drop the duplicates\n",
    "tradeable.drop_duplicates(subset='Symbol', keep='first', inplace=True)"
   ]
  },
  {
   "cell_type": "markdown",
   "metadata": {
    "id": "e-20x9m5cyq4"
   },
   "source": [
    "## Time to collect the historical share price data  \n",
    "Now we can use yfinance to collect the daily price data for every ticker in our list for the last three months. Depending on the number of shares in the ticker list(currently ~3400) and the internet speed, this will take about ten minutes. It collects the open, high, low, close and volume data. We are only going to use the adjusted close, with the auto_adjust set to True. The data frame called share data can be saved and used for other analysis if you want to explore it further; simply add a line `share_data.to_csv('share_data.csv')`.     "
   ]
  },
  {
   "cell_type": "code",
   "execution_count": 10,
   "metadata": {
    "colab": {
     "base_uri": "https://localhost:8080/"
    },
    "id": "tiYbLsHGcLXF",
    "outputId": "37757c4e-a78f-44c8-9a74-b2092908385f"
   },
   "outputs": [
    {
     "name": "stdout",
     "output_type": "stream",
     "text": [
      "[*********************100%***********************]  3387 of 3387 completed\n",
      "\n",
      "13 Failed downloads:\n",
      "- JW.A: No data found, symbol may be delisted\n",
      "- BF.A: No data found, symbol may be delisted\n",
      "- BRK.B: No data found, symbol may be delisted\n",
      "- OIBR.C: No data found, symbol may be delisted\n",
      "- PBR.A: No data found, symbol may be delisted\n",
      "- BF.B: None\n",
      "- CWEN.A: No data found, symbol may be delisted\n",
      "- LGF.A: No data found, symbol may be delisted\n",
      "- LEN.B: None\n",
      "- IPOC: No data found, symbol may be delisted\n",
      "- LGF.B: None\n",
      "- FTIV: No data found, symbol may be delisted\n",
      "- HEI.A: No data found, symbol may be delisted\n"
     ]
    }
   ],
   "source": [
    "%timeit\n",
    "# use yfinance to collect the data\n",
    "share_data = yf.download(tradeable.Symbol.to_list(),\n",
    "                         period=\"3mo\", \n",
    "                         interval=\"1d\", \n",
    "                         auto_adjust=True, \n",
    "                         back_adjust=True,\n",
    "                         prepost=True)"
   ]
  },
  {
   "cell_type": "code",
   "execution_count": 11,
   "metadata": {
    "colab": {
     "base_uri": "https://localhost:8080/",
     "height": 235
    },
    "id": "Tj5S8jNJ_6ri",
    "outputId": "9a634863-ec00-4fe9-a7e7-179a80e9ef60"
   },
   "outputs": [
    {
     "data": {
      "text/html": [
       "<div>\n",
       "<style scoped>\n",
       "    .dataframe tbody tr th:only-of-type {\n",
       "        vertical-align: middle;\n",
       "    }\n",
       "\n",
       "    .dataframe tbody tr th {\n",
       "        vertical-align: top;\n",
       "    }\n",
       "\n",
       "    .dataframe thead th {\n",
       "        text-align: right;\n",
       "    }\n",
       "</style>\n",
       "<table border=\"1\" class=\"dataframe\">\n",
       "  <thead>\n",
       "    <tr style=\"text-align: right;\">\n",
       "      <th></th>\n",
       "      <th>Close</th>\n",
       "      <th>High</th>\n",
       "      <th>Low</th>\n",
       "      <th>Open</th>\n",
       "      <th>Volume</th>\n",
       "    </tr>\n",
       "    <tr>\n",
       "      <th>Date</th>\n",
       "      <th></th>\n",
       "      <th></th>\n",
       "      <th></th>\n",
       "      <th></th>\n",
       "      <th></th>\n",
       "    </tr>\n",
       "  </thead>\n",
       "  <tbody>\n",
       "    <tr>\n",
       "      <th>2021-07-15</th>\n",
       "      <td>NaN</td>\n",
       "      <td>NaN</td>\n",
       "      <td>NaN</td>\n",
       "      <td>NaN</td>\n",
       "      <td>NaN</td>\n",
       "    </tr>\n",
       "    <tr>\n",
       "      <th>2021-07-16</th>\n",
       "      <td>NaN</td>\n",
       "      <td>NaN</td>\n",
       "      <td>NaN</td>\n",
       "      <td>NaN</td>\n",
       "      <td>NaN</td>\n",
       "    </tr>\n",
       "    <tr>\n",
       "      <th>2021-07-19</th>\n",
       "      <td>142.449997</td>\n",
       "      <td>144.070007</td>\n",
       "      <td>141.669998</td>\n",
       "      <td>143.750000</td>\n",
       "      <td>121434600.0</td>\n",
       "    </tr>\n",
       "    <tr>\n",
       "      <th>2021-07-20</th>\n",
       "      <td>146.149994</td>\n",
       "      <td>147.100006</td>\n",
       "      <td>142.960007</td>\n",
       "      <td>143.460007</td>\n",
       "      <td>96350000.0</td>\n",
       "    </tr>\n",
       "    <tr>\n",
       "      <th>2021-07-21</th>\n",
       "      <td>145.399994</td>\n",
       "      <td>146.130005</td>\n",
       "      <td>144.630005</td>\n",
       "      <td>145.529999</td>\n",
       "      <td>74993500.0</td>\n",
       "    </tr>\n",
       "  </tbody>\n",
       "</table>\n",
       "</div>"
      ],
      "text/plain": [
       "                 Close        High         Low        Open       Volume\n",
       "Date                                                                   \n",
       "2021-07-15         NaN         NaN         NaN         NaN          NaN\n",
       "2021-07-16         NaN         NaN         NaN         NaN          NaN\n",
       "2021-07-19  142.449997  144.070007  141.669998  143.750000  121434600.0\n",
       "2021-07-20  146.149994  147.100006  142.960007  143.460007   96350000.0\n",
       "2021-07-21  145.399994  146.130005  144.630005  145.529999   74993500.0"
      ]
     },
     "execution_count": 11,
     "metadata": {},
     "output_type": "execute_result"
    }
   ],
   "source": [
    "# select just Apple from the multiindex to eyeball data\n",
    "share_data.xs('AAPL', axis=1, level=1).head()\n",
    "# unquote line below to save all in GDrive/Colab Notebooks\n",
    "# share_data.to_csv('share_data.csv')"
   ]
  },
  {
   "cell_type": "markdown",
   "metadata": {
    "id": "T0xwvQumzX5S"
   },
   "source": [
    "## Data Wrangling    \n",
    "For calculating the growth, we only need the daily close price. And then, to compare all of the stocks to each other, we can calculate the percentage change from one daily close to the next. "
   ]
  },
  {
   "cell_type": "code",
   "execution_count": 12,
   "metadata": {
    "colab": {
     "base_uri": "https://localhost:8080/",
     "height": 369
    },
    "id": "Rx2yzMm-cLae",
    "outputId": "9a80d3da-6b27-4a28-f84b-3a180c42d119"
   },
   "outputs": [
    {
     "data": {
      "text/html": [
       "<div>\n",
       "<style scoped>\n",
       "    .dataframe tbody tr th:only-of-type {\n",
       "        vertical-align: middle;\n",
       "    }\n",
       "\n",
       "    .dataframe tbody tr th {\n",
       "        vertical-align: top;\n",
       "    }\n",
       "\n",
       "    .dataframe thead th {\n",
       "        text-align: right;\n",
       "    }\n",
       "</style>\n",
       "<table border=\"1\" class=\"dataframe\">\n",
       "  <thead>\n",
       "    <tr style=\"text-align: right;\">\n",
       "      <th></th>\n",
       "      <th>A</th>\n",
       "      <th>AA</th>\n",
       "      <th>AAC</th>\n",
       "      <th>AAL</th>\n",
       "      <th>AAN</th>\n",
       "      <th>AAP</th>\n",
       "      <th>AAPL</th>\n",
       "      <th>AAQC</th>\n",
       "      <th>AAT</th>\n",
       "      <th>ABB</th>\n",
       "      <th>...</th>\n",
       "      <th>ZS</th>\n",
       "      <th>ZTS</th>\n",
       "      <th>ZUO</th>\n",
       "      <th>ZVIA</th>\n",
       "      <th>ZVO</th>\n",
       "      <th>ZWRK</th>\n",
       "      <th>ZWS</th>\n",
       "      <th>ZY</th>\n",
       "      <th>ZYME</th>\n",
       "      <th>ZYNE</th>\n",
       "    </tr>\n",
       "    <tr>\n",
       "      <th>Date</th>\n",
       "      <th></th>\n",
       "      <th></th>\n",
       "      <th></th>\n",
       "      <th></th>\n",
       "      <th></th>\n",
       "      <th></th>\n",
       "      <th></th>\n",
       "      <th></th>\n",
       "      <th></th>\n",
       "      <th></th>\n",
       "      <th></th>\n",
       "      <th></th>\n",
       "      <th></th>\n",
       "      <th></th>\n",
       "      <th></th>\n",
       "      <th></th>\n",
       "      <th></th>\n",
       "      <th></th>\n",
       "      <th></th>\n",
       "      <th></th>\n",
       "      <th></th>\n",
       "    </tr>\n",
       "  </thead>\n",
       "  <tbody>\n",
       "    <tr>\n",
       "      <th>2021-07-15</th>\n",
       "      <td>NaN</td>\n",
       "      <td>NaN</td>\n",
       "      <td>NaN</td>\n",
       "      <td>NaN</td>\n",
       "      <td>NaN</td>\n",
       "      <td>NaN</td>\n",
       "      <td>NaN</td>\n",
       "      <td>NaN</td>\n",
       "      <td>NaN</td>\n",
       "      <td>NaN</td>\n",
       "      <td>...</td>\n",
       "      <td>NaN</td>\n",
       "      <td>NaN</td>\n",
       "      <td>NaN</td>\n",
       "      <td>NaN</td>\n",
       "      <td>NaN</td>\n",
       "      <td>NaN</td>\n",
       "      <td>NaN</td>\n",
       "      <td>NaN</td>\n",
       "      <td>NaN</td>\n",
       "      <td>NaN</td>\n",
       "    </tr>\n",
       "    <tr>\n",
       "      <th>2021-07-16</th>\n",
       "      <td>NaN</td>\n",
       "      <td>NaN</td>\n",
       "      <td>NaN</td>\n",
       "      <td>NaN</td>\n",
       "      <td>NaN</td>\n",
       "      <td>NaN</td>\n",
       "      <td>NaN</td>\n",
       "      <td>NaN</td>\n",
       "      <td>NaN</td>\n",
       "      <td>NaN</td>\n",
       "      <td>...</td>\n",
       "      <td>NaN</td>\n",
       "      <td>NaN</td>\n",
       "      <td>NaN</td>\n",
       "      <td>NaN</td>\n",
       "      <td>NaN</td>\n",
       "      <td>NaN</td>\n",
       "      <td>NaN</td>\n",
       "      <td>NaN</td>\n",
       "      <td>NaN</td>\n",
       "      <td>NaN</td>\n",
       "    </tr>\n",
       "    <tr>\n",
       "      <th>2021-07-19</th>\n",
       "      <td>NaN</td>\n",
       "      <td>NaN</td>\n",
       "      <td>NaN</td>\n",
       "      <td>NaN</td>\n",
       "      <td>NaN</td>\n",
       "      <td>NaN</td>\n",
       "      <td>NaN</td>\n",
       "      <td>NaN</td>\n",
       "      <td>NaN</td>\n",
       "      <td>NaN</td>\n",
       "      <td>...</td>\n",
       "      <td>NaN</td>\n",
       "      <td>NaN</td>\n",
       "      <td>NaN</td>\n",
       "      <td>NaN</td>\n",
       "      <td>NaN</td>\n",
       "      <td>NaN</td>\n",
       "      <td>NaN</td>\n",
       "      <td>NaN</td>\n",
       "      <td>NaN</td>\n",
       "      <td>NaN</td>\n",
       "    </tr>\n",
       "    <tr>\n",
       "      <th>2021-07-20</th>\n",
       "      <td>0.011655</td>\n",
       "      <td>0.105313</td>\n",
       "      <td>-0.002047</td>\n",
       "      <td>0.083817</td>\n",
       "      <td>0.042748</td>\n",
       "      <td>0.022171</td>\n",
       "      <td>0.025974</td>\n",
       "      <td>-0.007179</td>\n",
       "      <td>0.048299</td>\n",
       "      <td>0.020337</td>\n",
       "      <td>...</td>\n",
       "      <td>0.027353</td>\n",
       "      <td>0.012805</td>\n",
       "      <td>0.032602</td>\n",
       "      <td>NaN</td>\n",
       "      <td>0.056911</td>\n",
       "      <td>0.0</td>\n",
       "      <td>0.038319</td>\n",
       "      <td>0.027742</td>\n",
       "      <td>0.019119</td>\n",
       "      <td>0.017467</td>\n",
       "    </tr>\n",
       "    <tr>\n",
       "      <th>2021-07-21</th>\n",
       "      <td>-0.002344</td>\n",
       "      <td>0.061230</td>\n",
       "      <td>0.001026</td>\n",
       "      <td>0.040856</td>\n",
       "      <td>0.015417</td>\n",
       "      <td>-0.003948</td>\n",
       "      <td>-0.005132</td>\n",
       "      <td>0.000000</td>\n",
       "      <td>0.020174</td>\n",
       "      <td>0.020501</td>\n",
       "      <td>...</td>\n",
       "      <td>0.008511</td>\n",
       "      <td>-0.010344</td>\n",
       "      <td>0.054645</td>\n",
       "      <td>NaN</td>\n",
       "      <td>0.000000</td>\n",
       "      <td>0.0</td>\n",
       "      <td>0.051190</td>\n",
       "      <td>-0.039606</td>\n",
       "      <td>0.004894</td>\n",
       "      <td>0.032189</td>\n",
       "    </tr>\n",
       "  </tbody>\n",
       "</table>\n",
       "<p>5 rows × 3387 columns</p>\n",
       "</div>"
      ],
      "text/plain": [
       "                   A        AA       AAC       AAL       AAN       AAP  \\\n",
       "Date                                                                     \n",
       "2021-07-15       NaN       NaN       NaN       NaN       NaN       NaN   \n",
       "2021-07-16       NaN       NaN       NaN       NaN       NaN       NaN   \n",
       "2021-07-19       NaN       NaN       NaN       NaN       NaN       NaN   \n",
       "2021-07-20  0.011655  0.105313 -0.002047  0.083817  0.042748  0.022171   \n",
       "2021-07-21 -0.002344  0.061230  0.001026  0.040856  0.015417 -0.003948   \n",
       "\n",
       "                AAPL      AAQC       AAT       ABB  ...        ZS       ZTS  \\\n",
       "Date                                                ...                       \n",
       "2021-07-15       NaN       NaN       NaN       NaN  ...       NaN       NaN   \n",
       "2021-07-16       NaN       NaN       NaN       NaN  ...       NaN       NaN   \n",
       "2021-07-19       NaN       NaN       NaN       NaN  ...       NaN       NaN   \n",
       "2021-07-20  0.025974 -0.007179  0.048299  0.020337  ...  0.027353  0.012805   \n",
       "2021-07-21 -0.005132  0.000000  0.020174  0.020501  ...  0.008511 -0.010344   \n",
       "\n",
       "                 ZUO  ZVIA       ZVO  ZWRK       ZWS        ZY      ZYME  \\\n",
       "Date                                                                       \n",
       "2021-07-15       NaN   NaN       NaN   NaN       NaN       NaN       NaN   \n",
       "2021-07-16       NaN   NaN       NaN   NaN       NaN       NaN       NaN   \n",
       "2021-07-19       NaN   NaN       NaN   NaN       NaN       NaN       NaN   \n",
       "2021-07-20  0.032602   NaN  0.056911   0.0  0.038319  0.027742  0.019119   \n",
       "2021-07-21  0.054645   NaN  0.000000   0.0  0.051190 -0.039606  0.004894   \n",
       "\n",
       "                ZYNE  \n",
       "Date                  \n",
       "2021-07-15       NaN  \n",
       "2021-07-16       NaN  \n",
       "2021-07-19       NaN  \n",
       "2021-07-20  0.017467  \n",
       "2021-07-21  0.032189  \n",
       "\n",
       "[5 rows x 3387 columns]"
      ]
     },
     "execution_count": 12,
     "metadata": {},
     "output_type": "execute_result"
    }
   ],
   "source": [
    "# select the close column for each ticker\n",
    "data_close = share_data['Close']\n",
    "# calculate the daily percentage change\n",
    "data_returns = data_close.pct_change(1)\n",
    "# eyeball the data \n",
    "data_returns.head()\n",
    "# there are normally NaN in the first couple of rows"
   ]
  },
  {
   "cell_type": "markdown",
   "metadata": {
    "id": "R1kh3EWV8o43"
   },
   "source": [
    "## Data Wrangling (II)  \n",
    "Sometimes stock splits do not get calculated properly into the adjusted close price and I like to get rid of any stocks that jumped to far in a single day. For example when a biotech gets positive clinical trial results and I have missed the boat!. So, next step is to drop any rows that grew by more than 50% in a day. The threshold value can be adjusted below."
   ]
  },
  {
   "cell_type": "code",
   "execution_count": 13,
   "metadata": {
    "id": "KBzQxkwK8n3D"
   },
   "outputs": [],
   "source": [
    "# set the growth theshold\n",
    "daily_growth_threshold = 0.5\n",
    "# keep only the columns without a daily growth that big\n",
    "data_returns = data_returns.loc[:, ~(data_returns >=daily_growth_threshold).any()]"
   ]
  },
  {
   "cell_type": "markdown",
   "metadata": {
    "id": "3A_COcH80dNJ"
   },
   "source": [
    "## Data Calculations    \n",
    "Next, it’s time to calculate the cumulative percentage growth of the share price. Unfortunately, you can't just add percentages up but apply them to 1 first, calculate the product, and take the 1 away again.   \n",
    "e.g. if the stock grew 5% one day and 3% the previous day $$(1 + 0.05) * (1 + 0.03) = (1.0815 - 1)$$  So 8.15% not 8%. Fortunately this is easy to do on a large data set using Python! "
   ]
  },
  {
   "cell_type": "code",
   "execution_count": 14,
   "metadata": {
    "id": "dfVSagwscLdN"
   },
   "outputs": [],
   "source": [
    "# calculate the cumulative daily growth\n",
    "data_cum_returns = (1 + data_returns).cumprod() -1"
   ]
  },
  {
   "cell_type": "markdown",
   "metadata": {
    "id": "0inZVaziF8Cv"
   },
   "source": [
    "## The Current Top Ten  \n",
    "Results time! Print out a table and charts for the current top ten."
   ]
  },
  {
   "cell_type": "code",
   "execution_count": 15,
   "metadata": {
    "colab": {
     "base_uri": "https://localhost:8080/",
     "height": 359
    },
    "id": "FmFJ2rf7cLf1",
    "outputId": "03428813-66bc-49d5-89fa-1b5499e9e32a"
   },
   "outputs": [
    {
     "data": {
      "text/html": [
       "<div>\n",
       "<style scoped>\n",
       "    .dataframe tbody tr th:only-of-type {\n",
       "        vertical-align: middle;\n",
       "    }\n",
       "\n",
       "    .dataframe tbody tr th {\n",
       "        vertical-align: top;\n",
       "    }\n",
       "\n",
       "    .dataframe thead th {\n",
       "        text-align: right;\n",
       "    }\n",
       "</style>\n",
       "<table border=\"1\" class=\"dataframe\">\n",
       "  <thead>\n",
       "    <tr style=\"text-align: right;\">\n",
       "      <th></th>\n",
       "      <th>% change</th>\n",
       "    </tr>\n",
       "  </thead>\n",
       "  <tbody>\n",
       "    <tr>\n",
       "      <th>UPST</th>\n",
       "      <td>238.31</td>\n",
       "    </tr>\n",
       "    <tr>\n",
       "      <th>METC</th>\n",
       "      <td>174.68</td>\n",
       "    </tr>\n",
       "    <tr>\n",
       "      <th>AMR</th>\n",
       "      <td>171.99</td>\n",
       "    </tr>\n",
       "    <tr>\n",
       "      <th>AFRM</th>\n",
       "      <td>162.67</td>\n",
       "    </tr>\n",
       "    <tr>\n",
       "      <th>LXU</th>\n",
       "      <td>148.72</td>\n",
       "    </tr>\n",
       "    <tr>\n",
       "      <th>TASK</th>\n",
       "      <td>136.18</td>\n",
       "    </tr>\n",
       "    <tr>\n",
       "      <th>SLI</th>\n",
       "      <td>132.21</td>\n",
       "    </tr>\n",
       "    <tr>\n",
       "      <th>SD</th>\n",
       "      <td>128.12</td>\n",
       "    </tr>\n",
       "    <tr>\n",
       "      <th>LC</th>\n",
       "      <td>126.04</td>\n",
       "    </tr>\n",
       "    <tr>\n",
       "      <th>CAR</th>\n",
       "      <td>119.62</td>\n",
       "    </tr>\n",
       "  </tbody>\n",
       "</table>\n",
       "</div>"
      ],
      "text/plain": [
       "      % change\n",
       "UPST    238.31\n",
       "METC    174.68\n",
       "AMR     171.99\n",
       "AFRM    162.67\n",
       "LXU     148.72\n",
       "TASK    136.18\n",
       "SLI     132.21\n",
       "SD      128.12\n",
       "LC      126.04\n",
       "CAR     119.62"
      ]
     },
     "execution_count": 15,
     "metadata": {},
     "output_type": "execute_result"
    }
   ],
   "source": [
    "# take the last row\n",
    "latest = data_cum_returns.tail(1).T.mul(100)\n",
    "# label the column\n",
    "latest.columns = ['% change']\n",
    "# show the top ten\n",
    "topten = round(latest.sort_values(by='% change', ascending=False)[:10], 2)\n",
    "topten"
   ]
  },
  {
   "cell_type": "code",
   "execution_count": 16,
   "metadata": {
    "colab": {
     "base_uri": "https://localhost:8080/",
     "height": 841
    },
    "id": "GMCj0huDO2aA",
    "outputId": "c976cec3-f1eb-4591-86ae-617d3e6fdf35"
   },
   "outputs": [
    {
     "data": {
      "image/png": "[encoded data removed]",
      "text/plain": [
       "<Figure size 864x864 with 10 Axes>"
      ]
     },
     "metadata": {
      "needs_background": "light"
     },
     "output_type": "display_data"
    }
   ],
   "source": [
    "# plot the current top ten\n",
    "data_cum_returns[list(topten.index)].mul(100).plot(subplots=True, \n",
    "                                          layout=(5, 2), \n",
    "                                          figsize=(12,12),\n",
    "                                          sharex=True,\n",
    "                                          ylabel='%',\n",
    "                                          title='The Current Top Ten Momentum Stocks')\n",
    "# tweek the layout\n",
    "plt.tight_layout(rect=[0, 0.03, 1, 0.95])\n",
    "plt.show()"
   ]
  },
  {
   "cell_type": "markdown",
   "metadata": {
    "id": "aXfbfB4UJ3VK"
   },
   "source": [
    "## Getting Further Company Information  \n",
    "Looks promising! You probably don't want to choose stocks based on a price chart alone. Fortunately, it is quick and easy to scrape far more information than price alone using yfinance. For each ticker in the top ten, we can get lots of financial and company information and drop it into a spreadsheet for further reading.  "
   ]
  },
  {
   "cell_type": "code",
   "execution_count": 17,
   "metadata": {
    "colab": {
     "base_uri": "https://localhost:8080/",
     "height": 474
    },
    "id": "rCIMQHwDcLkG",
    "outputId": "2719bcd9-aa82-4427-cd92-50b5b0eee3cf"
   },
   "outputs": [
    {
     "data": {
      "text/html": [
       "<div>\n",
       "<style scoped>\n",
       "    .dataframe tbody tr th:only-of-type {\n",
       "        vertical-align: middle;\n",
       "    }\n",
       "\n",
       "    .dataframe tbody tr th {\n",
       "        vertical-align: top;\n",
       "    }\n",
       "\n",
       "    .dataframe thead th {\n",
       "        text-align: right;\n",
       "    }\n",
       "</style>\n",
       "<table border=\"1\" class=\"dataframe\">\n",
       "  <thead>\n",
       "    <tr style=\"text-align: right;\">\n",
       "      <th></th>\n",
       "      <th>zip</th>\n",
       "      <th>sector</th>\n",
       "      <th>fullTimeEmployees</th>\n",
       "      <th>longBusinessSummary</th>\n",
       "      <th>city</th>\n",
       "      <th>phone</th>\n",
       "      <th>state</th>\n",
       "      <th>country</th>\n",
       "      <th>companyOfficers</th>\n",
       "      <th>website</th>\n",
       "      <th>...</th>\n",
       "      <th>bidSize</th>\n",
       "      <th>dayHigh</th>\n",
       "      <th>regularMarketPrice</th>\n",
       "      <th>logo_url</th>\n",
       "      <th>lastDividendDate</th>\n",
       "      <th>impliedSharesOutstanding</th>\n",
       "      <th>toCurrency</th>\n",
       "      <th>trailingPE</th>\n",
       "      <th>fax</th>\n",
       "      <th>Growth</th>\n",
       "    </tr>\n",
       "  </thead>\n",
       "  <tbody>\n",
       "    <tr>\n",
       "      <th>UPST</th>\n",
       "      <td>94403</td>\n",
       "      <td>Financial Services</td>\n",
       "      <td>554.0</td>\n",
       "      <td>Upstart Holdings, Inc. operates a cloud- based...</td>\n",
       "      <td>San Mateo</td>\n",
       "      <td>650 204 1000</td>\n",
       "      <td>CA</td>\n",
       "      <td>United States</td>\n",
       "      <td>[]</td>\n",
       "      <td>http://www.upstart.com</td>\n",
       "      <td>...</td>\n",
       "      <td>900</td>\n",
       "      <td>401.4400</td>\n",
       "      <td>390.00</td>\n",
       "      <td>https://logo.clearbit.com/upstart.com</td>\n",
       "      <td>NaN</td>\n",
       "      <td>NaN</td>\n",
       "      <td>NaN</td>\n",
       "      <td>NaN</td>\n",
       "      <td>NaN</td>\n",
       "      <td>238.31</td>\n",
       "    </tr>\n",
       "    <tr>\n",
       "      <th>METC</th>\n",
       "      <td>40507</td>\n",
       "      <td>Basic Materials</td>\n",
       "      <td>349.0</td>\n",
       "      <td>Ramaco Resources, Inc. produces and sells meta...</td>\n",
       "      <td>Lexington</td>\n",
       "      <td>859 244 7455</td>\n",
       "      <td>KY</td>\n",
       "      <td>United States</td>\n",
       "      <td>[]</td>\n",
       "      <td>http://www.ramacoresources.com</td>\n",
       "      <td>...</td>\n",
       "      <td>800</td>\n",
       "      <td>15.3500</td>\n",
       "      <td>15.19</td>\n",
       "      <td>https://logo.clearbit.com/ramacoresources.com</td>\n",
       "      <td>NaN</td>\n",
       "      <td>NaN</td>\n",
       "      <td>NaN</td>\n",
       "      <td>153.43434</td>\n",
       "      <td>NaN</td>\n",
       "      <td>174.68</td>\n",
       "    </tr>\n",
       "    <tr>\n",
       "      <th>AMR</th>\n",
       "      <td>37620</td>\n",
       "      <td>Basic Materials</td>\n",
       "      <td>3300.0</td>\n",
       "      <td>Alpha Metallurgical Resources, Inc. operates a...</td>\n",
       "      <td>Bristol</td>\n",
       "      <td>423 573 0300</td>\n",
       "      <td>TN</td>\n",
       "      <td>United States</td>\n",
       "      <td>[]</td>\n",
       "      <td>http://www.alphametresources.com</td>\n",
       "      <td>...</td>\n",
       "      <td>1100</td>\n",
       "      <td>63.5300</td>\n",
       "      <td>61.85</td>\n",
       "      <td>https://logo.clearbit.com/alphametresources.com</td>\n",
       "      <td>NaN</td>\n",
       "      <td>NaN</td>\n",
       "      <td>NaN</td>\n",
       "      <td>NaN</td>\n",
       "      <td>NaN</td>\n",
       "      <td>171.99</td>\n",
       "    </tr>\n",
       "    <tr>\n",
       "      <th>AFRM</th>\n",
       "      <td>94108</td>\n",
       "      <td>Technology</td>\n",
       "      <td>1641.0</td>\n",
       "      <td>Affirm Holdings, Inc. operates a platform for ...</td>\n",
       "      <td>San Francisco</td>\n",
       "      <td>415 984 0490</td>\n",
       "      <td>CA</td>\n",
       "      <td>United States</td>\n",
       "      <td>[]</td>\n",
       "      <td>http://www.affirm.com</td>\n",
       "      <td>...</td>\n",
       "      <td>1200</td>\n",
       "      <td>153.2000</td>\n",
       "      <td>146.73</td>\n",
       "      <td>https://logo.clearbit.com/affirm.com</td>\n",
       "      <td>NaN</td>\n",
       "      <td>271875008.0</td>\n",
       "      <td>NaN</td>\n",
       "      <td>NaN</td>\n",
       "      <td>NaN</td>\n",
       "      <td>162.67</td>\n",
       "    </tr>\n",
       "    <tr>\n",
       "      <th>LXU</th>\n",
       "      <td>73116-2238</td>\n",
       "      <td>Basic Materials</td>\n",
       "      <td>573.0</td>\n",
       "      <td>LSB Industries, Inc. manufactures, markets, an...</td>\n",
       "      <td>Oklahoma City</td>\n",
       "      <td>405 235 4546</td>\n",
       "      <td>OK</td>\n",
       "      <td>United States</td>\n",
       "      <td>[]</td>\n",
       "      <td>http://www.lsbindustries.com</td>\n",
       "      <td>...</td>\n",
       "      <td>1100</td>\n",
       "      <td>9.7872</td>\n",
       "      <td>9.26</td>\n",
       "      <td>https://logo.clearbit.com/lsbindustries.com</td>\n",
       "      <td>NaN</td>\n",
       "      <td>NaN</td>\n",
       "      <td>NaN</td>\n",
       "      <td>NaN</td>\n",
       "      <td>405 235 5067</td>\n",
       "      <td>148.72</td>\n",
       "    </tr>\n",
       "  </tbody>\n",
       "</table>\n",
       "<p>5 rows × 158 columns</p>\n",
       "</div>"
      ],
      "text/plain": [
       "             zip              sector  fullTimeEmployees  \\\n",
       "UPST       94403  Financial Services              554.0   \n",
       "METC       40507     Basic Materials              349.0   \n",
       "AMR        37620     Basic Materials             3300.0   \n",
       "AFRM       94108          Technology             1641.0   \n",
       "LXU   73116-2238     Basic Materials              573.0   \n",
       "\n",
       "                                    longBusinessSummary           city  \\\n",
       "UPST  Upstart Holdings, Inc. operates a cloud- based...      San Mateo   \n",
       "METC  Ramaco Resources, Inc. produces and sells meta...      Lexington   \n",
       "AMR   Alpha Metallurgical Resources, Inc. operates a...        Bristol   \n",
       "AFRM  Affirm Holdings, Inc. operates a platform for ...  San Francisco   \n",
       "LXU   LSB Industries, Inc. manufactures, markets, an...  Oklahoma City   \n",
       "\n",
       "             phone state        country companyOfficers  \\\n",
       "UPST  650 204 1000    CA  United States              []   \n",
       "METC  859 244 7455    KY  United States              []   \n",
       "AMR   423 573 0300    TN  United States              []   \n",
       "AFRM  415 984 0490    CA  United States              []   \n",
       "LXU   405 235 4546    OK  United States              []   \n",
       "\n",
       "                               website  ...  bidSize   dayHigh  \\\n",
       "UPST            http://www.upstart.com  ...      900  401.4400   \n",
       "METC    http://www.ramacoresources.com  ...      800   15.3500   \n",
       "AMR   http://www.alphametresources.com  ...     1100   63.5300   \n",
       "AFRM             http://www.affirm.com  ...     1200  153.2000   \n",
       "LXU       http://www.lsbindustries.com  ...     1100    9.7872   \n",
       "\n",
       "     regularMarketPrice                                         logo_url  \\\n",
       "UPST             390.00            https://logo.clearbit.com/upstart.com   \n",
       "METC              15.19    https://logo.clearbit.com/ramacoresources.com   \n",
       "AMR               61.85  https://logo.clearbit.com/alphametresources.com   \n",
       "AFRM             146.73             https://logo.clearbit.com/affirm.com   \n",
       "LXU                9.26      https://logo.clearbit.com/lsbindustries.com   \n",
       "\n",
       "      lastDividendDate  impliedSharesOutstanding  toCurrency  trailingPE  \\\n",
       "UPST               NaN                       NaN         NaN         NaN   \n",
       "METC               NaN                       NaN         NaN   153.43434   \n",
       "AMR                NaN                       NaN         NaN         NaN   \n",
       "AFRM               NaN               271875008.0         NaN         NaN   \n",
       "LXU                NaN                       NaN         NaN         NaN   \n",
       "\n",
       "               fax  Growth  \n",
       "UPST           NaN  238.31  \n",
       "METC           NaN  174.68  \n",
       "AMR            NaN  171.99  \n",
       "AFRM           NaN  162.67  \n",
       "LXU   405 235 5067  148.72  \n",
       "\n",
       "[5 rows x 158 columns]"
      ]
     },
     "execution_count": 17,
     "metadata": {},
     "output_type": "execute_result"
    }
   ],
   "source": [
    "# get further information\n",
    "topten_info = {}\n",
    "for i in topten.index:\n",
    "    topten_info[i] = yf.Ticker(i).info\n",
    "# add the information to a data frame    \n",
    "info_df = pd.DataFrame.from_dict(topten_info,orient='index')\n",
    "# add the growth data\n",
    "info_df['Growth'] = topten\n",
    "# rank the companies by growth rate\n",
    "info_df.sort_values(by=['Growth'], ascending=False, inplace=True)\n",
    "info_df.head()"
   ]
  },
  {
   "cell_type": "code",
   "execution_count": 18,
   "metadata": {
    "colab": {
     "base_uri": "https://localhost:8080/"
    },
    "id": "5WPgnzctMQkf",
    "outputId": "31164a17-fe27-4da4-d12c-7b89811df148"
   },
   "outputs": [
    {
     "data": {
      "text/plain": [
       "Basic Materials       4\n",
       "Financial Services    2\n",
       "Technology            2\n",
       "Energy                1\n",
       "Industrials           1\n",
       "Name: sector, dtype: int64"
      ]
     },
     "execution_count": 18,
     "metadata": {},
     "output_type": "execute_result"
    }
   ],
   "source": [
    "# which sectors are hot?\n",
    "info_df['sector'].value_counts()"
   ]
  },
  {
   "cell_type": "markdown",
   "metadata": {
    "id": "aTFo6-VmMfGy"
   },
   "source": [
    "## Save the information \n",
    "Okay thats it - job done. It's possible to output the information table to Google Drive it normally lands in a folder called Colab Notebooks if you have run this online."
   ]
  },
  {
   "cell_type": "code",
   "execution_count": 19,
   "metadata": {
    "id": "sHBqphLEO2aB"
   },
   "outputs": [],
   "source": [
    "# save the spreadsheet for further reading\n",
    "info_df.to_csv('growth_shares_info.csv')"
   ]
  },
  {
   "cell_type": "markdown",
   "metadata": {
    "id": "lukZnjQFOsPS"
   },
   "source": [
    "## References\n",
    "<a href=\"https://colab.research.google.com/github/ant358/ColabGitHub/blob/main/notebooks/How_you_can_use_Python_to_find_the_top_ten_momentum_stocks.ipynb\" target=\"_parent\"><img src=\"https://colab.research.google.com/assets/colab-badge.svg\" alt=\"Open In Colab\"/></a>\n",
    "1. [Momentum Trading](https://en.wikipedia.org/wiki/Momentum_investing)\n",
    "2. [Google Colab](https://colab.research.google.com/)\n",
    "3. [Read data from Google Sheets](https://towardsdatascience.com/read-data-from-google-sheets-into-pandas-without-the-google-sheets-api-5c468536550)  \n",
    "4. [Python Requests](https://docs.python-requests.org/en/latest/)\n",
    "5. [StringIO](https://docs.python.org/3/library/io.html)  \n",
    "6. [Read a CSV from an URL](https://stackoverflow.com/questions/32400867/pandas-read-csv-from-url)     \n",
    "7. [Using Yahoo Finance](https://towardsdatascience.com/free-stock-data-for-python-using-yahoo-finance-api-9dafd96cad2e)   \n",
    "8. [yfinance](https://pypi.org/project/yfinance/)  "
   ]
  },
  {
   "cell_type": "code",
   "execution_count": null,
   "metadata": {},
   "outputs": [],
   "source": []
  }
 ],
 "metadata": {
  "colab": {
   "collapsed_sections": [],
   "include_colab_link": true,
   "name": "How you can use Python to find the top ten momentum stocks efficiently.ipynb",
   "provenance": []
  },
  "kernelspec": {
   "display_name": "Python 3",
   "language": "python",
   "name": "python3"
  },
  "language_info": {
   "codemirror_mode": {
    "name": "ipython",
    "version": 3
   },
   "file_extension": ".py",
   "mimetype": "text/x-python",
   "name": "python",
   "nbconvert_exporter": "python",
   "pygments_lexer": "ipython3",
   "version": "3.7.11"
  },
  "toc": {
   "base_numbering": 1,
   "nav_menu": {},
   "number_sections": false,
   "sideBar": false,
   "skip_h1_title": true,
   "title_cell": "Table of Contents",
   "title_sidebar": "Contents",
   "toc_cell": false,
   "toc_position": {},
   "toc_section_display": false,
   "toc_window_display": false
  },
  "varInspector": {
   "cols": {
    "lenName": 16,
    "lenType": 16,
    "lenVar": 40
   },
   "kernels_config": {
    "python": {
     "delete_cmd_postfix": "",
     "delete_cmd_prefix": "del ",
     "library": "var_list.py",
     "varRefreshCmd": "print(var_dic_list())"
    },
    "r": {
     "delete_cmd_postfix": ") ",
     "delete_cmd_prefix": "rm(",
     "library": "var_list.r",
     "varRefreshCmd": "cat(var_dic_list()) "
    }
   },
   "types_to_exclude": [
    "module",
    "function",
    "builtin_function_or_method",
    "instance",
    "_Feature"
   ],
   "window_display": false
  }
 },
 "nbformat": 4,
 "nbformat_minor": 1
}
